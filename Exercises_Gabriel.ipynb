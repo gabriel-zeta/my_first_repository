{
  "metadata": {
    "language_info": {
      "codemirror_mode": {
        "name": "python",
        "version": 3
      },
      "file_extension": ".py",
      "mimetype": "text/x-python",
      "name": "python",
      "nbconvert_exporter": "python",
      "pygments_lexer": "ipython3",
      "version": "3.8"
    },
    "kernelspec": {
      "name": "python",
      "display_name": "Python (Pyodide)",
      "language": "python"
    },
    "colab": {
      "provenance": [],
      "include_colab_link": true
    }
  },
  "nbformat_minor": 0,
  "nbformat": 4,
  "cells": [
    {
      "cell_type": "markdown",
      "metadata": {
        "id": "view-in-github",
        "colab_type": "text"
      },
      "source": [
        "<a href=\"https://colab.research.google.com/github/gabriel-zeta/my_first_repository/blob/main/Exercises_Gabriel.ipynb\" target=\"_parent\"><img src=\"https://colab.research.google.com/assets/colab-badge.svg\" alt=\"Open In Colab\"/></a>"
      ]
    },
    {
      "cell_type": "markdown",
      "source": [
        "# Working with Sequences #\n",
        "***The following examples are taken from the official Python docs link***\n",
        "\n",
        "[Python Docs](https://docs.python.org/3/library/stdtypes.html#sequence-types-list-tuple-range)"
      ],
      "metadata": {
        "id": "8y_FT_spdH4P"
      }
    },
    {
      "cell_type": "markdown",
      "source": [
        "### Tuples ###\n",
        "***Tuples are not mutable***"
      ],
      "metadata": {
        "id": "XDJ-k0T6dH4S"
      }
    },
    {
      "cell_type": "code",
      "source": [
        "tuple_1 = (1,2,3,4,5)"
      ],
      "metadata": {
        "trusted": true,
        "id": "8iaWngJCdH4T"
      },
      "execution_count": null,
      "outputs": []
    },
    {
      "cell_type": "code",
      "source": [
        "tuple_2 = (7,2,6)"
      ],
      "metadata": {
        "trusted": true,
        "id": "JdolnY_3dH4U"
      },
      "execution_count": null,
      "outputs": []
    },
    {
      "cell_type": "code",
      "source": [
        "tuple_1[2]"
      ],
      "metadata": {
        "trusted": true,
        "id": "lzlJ_sT-dH4V",
        "outputId": "e4bdb2cf-907d-47a9-e15c-bf3c1e1f65a5"
      },
      "execution_count": null,
      "outputs": [
        {
          "execution_count": 3,
          "output_type": "execute_result",
          "data": {
            "text/plain": "3"
          },
          "metadata": {}
        }
      ]
    },
    {
      "cell_type": "code",
      "source": [
        "tuple_1[0:3]"
      ],
      "metadata": {
        "trusted": true,
        "id": "TnBpuabxdH4W",
        "outputId": "103acde6-f5a6-4231-8f84-20f46d5b3bd8"
      },
      "execution_count": null,
      "outputs": [
        {
          "execution_count": 5,
          "output_type": "execute_result",
          "data": {
            "text/plain": "(1, 2, 3)"
          },
          "metadata": {}
        }
      ]
    },
    {
      "cell_type": "code",
      "source": [
        "tuple_1[0:5:2]"
      ],
      "metadata": {
        "trusted": true,
        "id": "d3i5NY9ldH4X",
        "outputId": "4059785c-cf3c-431f-a65a-de58ae6f01c2"
      },
      "execution_count": null,
      "outputs": [
        {
          "execution_count": 6,
          "output_type": "execute_result",
          "data": {
            "text/plain": "(1, 3, 5)"
          },
          "metadata": {}
        }
      ]
    },
    {
      "cell_type": "code",
      "source": [
        "4 in tuple_1"
      ],
      "metadata": {
        "trusted": true,
        "id": "xD--yhn4dH4Y",
        "outputId": "98b5d9d8-9fe8-4681-82bd-0f23d0e2d904"
      },
      "execution_count": null,
      "outputs": [
        {
          "execution_count": 22,
          "output_type": "execute_result",
          "data": {
            "text/plain": "True"
          },
          "metadata": {}
        }
      ]
    },
    {
      "cell_type": "code",
      "source": [
        "2 not in tuple_1"
      ],
      "metadata": {
        "trusted": true,
        "id": "xsfuSiOedH4Y",
        "outputId": "56546ea1-dd15-4d10-d50d-5b3516a757e7"
      },
      "execution_count": null,
      "outputs": [
        {
          "execution_count": 23,
          "output_type": "execute_result",
          "data": {
            "text/plain": "False"
          },
          "metadata": {}
        }
      ]
    },
    {
      "cell_type": "code",
      "source": [
        "tuple_3 = tuple_1 + tuple_2"
      ],
      "metadata": {
        "trusted": true,
        "id": "xoclePSsdH4Z"
      },
      "execution_count": null,
      "outputs": []
    },
    {
      "cell_type": "code",
      "source": [
        "tuple_3"
      ],
      "metadata": {
        "trusted": true,
        "id": "roRUvSZadH4Z",
        "outputId": "a75ae219-8290-4105-94c0-274e41219841"
      },
      "execution_count": null,
      "outputs": [
        {
          "execution_count": 27,
          "output_type": "execute_result",
          "data": {
            "text/plain": "(1, 2, 3, 4, 5, 7, 2, 6)"
          },
          "metadata": {}
        }
      ]
    },
    {
      "cell_type": "code",
      "source": [
        "tuple_1 += tuple_2 #tuple_1 is modified but under a new assignment, the elements in it are not changed"
      ],
      "metadata": {
        "trusted": true,
        "id": "b3O9raYwdH4Z"
      },
      "execution_count": null,
      "outputs": []
    },
    {
      "cell_type": "code",
      "source": [
        "tuple_1"
      ],
      "metadata": {
        "trusted": true,
        "id": "Pe43u7HkdH4a",
        "outputId": "cdff6f3a-c4ee-4f07-b9cc-524764f48fd1"
      },
      "execution_count": null,
      "outputs": [
        {
          "execution_count": 29,
          "output_type": "execute_result",
          "data": {
            "text/plain": "(1, 2, 3, 4, 5, 7, 2, 6)"
          },
          "metadata": {}
        }
      ]
    },
    {
      "cell_type": "code",
      "source": [
        "tuple_2 *= 3 #tuple_2 is modified but under a new assignment, the elements in it are not changed"
      ],
      "metadata": {
        "trusted": true,
        "id": "qTr2ogszdH4a"
      },
      "execution_count": null,
      "outputs": []
    },
    {
      "cell_type": "code",
      "source": [
        "tuple_2"
      ],
      "metadata": {
        "trusted": true,
        "id": "CsOpoww3dH4b",
        "outputId": "b8629be4-9809-40ef-cb9c-a63f427ff71a"
      },
      "execution_count": null,
      "outputs": [
        {
          "execution_count": 38,
          "output_type": "execute_result",
          "data": {
            "text/plain": "(7, 2, 6, 7, 2, 6, 7, 2, 6)"
          },
          "metadata": {}
        }
      ]
    },
    {
      "cell_type": "code",
      "source": [
        "len(tuple_2)"
      ],
      "metadata": {
        "trusted": true,
        "id": "R65zdgROdH4b",
        "outputId": "9927ebd8-25d3-4934-daf3-c9a931559380"
      },
      "execution_count": null,
      "outputs": [
        {
          "execution_count": 39,
          "output_type": "execute_result",
          "data": {
            "text/plain": "9"
          },
          "metadata": {}
        }
      ]
    },
    {
      "cell_type": "code",
      "source": [
        "min(tuple_2), max(tuple_2)"
      ],
      "metadata": {
        "trusted": true,
        "id": "JV5EvGoQdH4b",
        "outputId": "5605dc5a-c52b-4dcc-ada5-0aa271d0df2d"
      },
      "execution_count": null,
      "outputs": [
        {
          "execution_count": 41,
          "output_type": "execute_result",
          "data": {
            "text/plain": "(2, 7)"
          },
          "metadata": {}
        }
      ]
    },
    {
      "cell_type": "code",
      "source": [
        "tuple_2.count(7)"
      ],
      "metadata": {
        "trusted": true,
        "id": "Ax-9EgFKdH4c",
        "outputId": "bbe9b691-befb-4100-f112-a3413ad39ab2"
      },
      "execution_count": null,
      "outputs": [
        {
          "execution_count": 42,
          "output_type": "execute_result",
          "data": {
            "text/plain": "3"
          },
          "metadata": {}
        }
      ]
    },
    {
      "cell_type": "code",
      "source": [
        "tuple_2.index(2)"
      ],
      "metadata": {
        "trusted": true,
        "id": "MzEjIUTxdH4c",
        "outputId": "da443187-e718-460a-fdeb-7fcc55cee725"
      },
      "execution_count": null,
      "outputs": [
        {
          "execution_count": 43,
          "output_type": "execute_result",
          "data": {
            "text/plain": "1"
          },
          "metadata": {}
        }
      ]
    },
    {
      "cell_type": "markdown",
      "source": [
        "### Strings ###\n",
        "***Strings are not mutable***"
      ],
      "metadata": {
        "id": "2xIKN1Q6dH4c"
      }
    },
    {
      "cell_type": "code",
      "source": [
        "my_string = \"Example\""
      ],
      "metadata": {
        "trusted": true,
        "id": "Uewv3HJLdH4d"
      },
      "execution_count": null,
      "outputs": []
    },
    {
      "cell_type": "code",
      "source": [
        "my_string[3]"
      ],
      "metadata": {
        "trusted": true,
        "id": "RU39iRhRdH4d",
        "outputId": "2579135b-4357-454c-c5dc-f5d2c9650794"
      },
      "execution_count": null,
      "outputs": [
        {
          "execution_count": 18,
          "output_type": "execute_result",
          "data": {
            "text/plain": "'m'"
          },
          "metadata": {}
        }
      ]
    },
    {
      "cell_type": "code",
      "source": [
        "my_string = my_string.upper()"
      ],
      "metadata": {
        "trusted": true,
        "id": "UkErXz0hdH4d"
      },
      "execution_count": null,
      "outputs": []
    },
    {
      "cell_type": "code",
      "source": [
        "my_string = my_string.replace('E','M') # Although strings are not mutable, the method replace modifies the string"
      ],
      "metadata": {
        "trusted": true,
        "id": "a9Ce5EkOdH4d"
      },
      "execution_count": null,
      "outputs": []
    },
    {
      "cell_type": "code",
      "source": [
        "my_string"
      ],
      "metadata": {
        "trusted": true,
        "id": "sek6OqRfdH4e",
        "outputId": "0ee43c10-29a3-4a2a-81e5-95e9cbe45f9c"
      },
      "execution_count": null,
      "outputs": [
        {
          "execution_count": 21,
          "output_type": "execute_result",
          "data": {
            "text/plain": "'MXAMPLM'"
          },
          "metadata": {}
        }
      ]
    },
    {
      "cell_type": "code",
      "source": [
        "min(my_string), max(my_string) # takes into consideration the ASCII codes for letters"
      ],
      "metadata": {
        "trusted": true,
        "id": "ekoijFr7dH4e",
        "outputId": "21bf647d-0698-46ab-e421-ef3f57e630ab"
      },
      "execution_count": null,
      "outputs": [
        {
          "execution_count": 56,
          "output_type": "execute_result",
          "data": {
            "text/plain": "('A', 'X')"
          },
          "metadata": {}
        }
      ]
    },
    {
      "cell_type": "code",
      "source": [
        "my_string.count(\"M\")"
      ],
      "metadata": {
        "trusted": true,
        "id": "aXNefyFGdH4e",
        "outputId": "69731cff-e6b6-4c39-bb4b-cbb7956af8cb"
      },
      "execution_count": null,
      "outputs": [
        {
          "execution_count": 57,
          "output_type": "execute_result",
          "data": {
            "text/plain": "3"
          },
          "metadata": {}
        }
      ]
    },
    {
      "cell_type": "code",
      "source": [
        "my_string.index(\"A\")"
      ],
      "metadata": {
        "trusted": true,
        "id": "KNa4sVjbdH4e",
        "outputId": "61e8643c-c9e3-42ee-c9ab-aed588de6e4d"
      },
      "execution_count": null,
      "outputs": [
        {
          "execution_count": 58,
          "output_type": "execute_result",
          "data": {
            "text/plain": "2"
          },
          "metadata": {}
        }
      ]
    },
    {
      "cell_type": "code",
      "source": [
        "my_string.center(11, \"@\") # The first argument represents the width of the new string. The second represents the extra characters.\n",
        "#If width is lesser than the length of the string, the same string is returned"
      ],
      "metadata": {
        "trusted": true,
        "id": "BFiQmyuodH4e",
        "outputId": "169e73ee-d62d-4870-9dfc-27716ef1f871"
      },
      "execution_count": null,
      "outputs": [
        {
          "execution_count": 64,
          "output_type": "execute_result",
          "data": {
            "text/plain": "'@@MXAMPLM@@'"
          },
          "metadata": {}
        }
      ]
    },
    {
      "cell_type": "code",
      "source": [
        "my_string.find(\"P\", 3, 6)"
      ],
      "metadata": {
        "trusted": true,
        "id": "nnjk3hy1dH4f",
        "outputId": "30a5e914-4b63-4442-abca-5d958ef423e8"
      },
      "execution_count": null,
      "outputs": [
        {
          "execution_count": 73,
          "output_type": "execute_result",
          "data": {
            "text/plain": "4"
          },
          "metadata": {}
        }
      ]
    },
    {
      "cell_type": "code",
      "source": [
        "\"AMP\"in my_string"
      ],
      "metadata": {
        "trusted": true,
        "id": "fcAwdVoTdH4f",
        "outputId": "a3d44b8e-d685-4513-be56-4a8187175f8d"
      },
      "execution_count": null,
      "outputs": [
        {
          "execution_count": 74,
          "output_type": "execute_result",
          "data": {
            "text/plain": "True"
          },
          "metadata": {}
        }
      ]
    },
    {
      "cell_type": "code",
      "source": [
        "\"NO\" in my_string"
      ],
      "metadata": {
        "trusted": true,
        "id": "B-5jqmESdH4f",
        "outputId": "3fa2fb1c-674d-4128-f655-216ad089c47c"
      },
      "execution_count": null,
      "outputs": [
        {
          "execution_count": 75,
          "output_type": "execute_result",
          "data": {
            "text/plain": "False"
          },
          "metadata": {}
        }
      ]
    },
    {
      "cell_type": "code",
      "source": [
        "\"NO\" not in my_string"
      ],
      "metadata": {
        "trusted": true,
        "id": "xle4amxhdH4f",
        "outputId": "b6004994-908a-4f02-bc2e-7495a638f4a0"
      },
      "execution_count": null,
      "outputs": [
        {
          "execution_count": 76,
          "output_type": "execute_result",
          "data": {
            "text/plain": "True"
          },
          "metadata": {}
        }
      ]
    },
    {
      "cell_type": "markdown",
      "source": [
        "### Lists ###\n",
        "***Lists are mutable***"
      ],
      "metadata": {
        "id": "6eFWIy23dH4f"
      }
    },
    {
      "cell_type": "code",
      "source": [],
      "metadata": {
        "id": "xH_zS4CPdH4g"
      },
      "execution_count": null,
      "outputs": []
    }
  ]
}